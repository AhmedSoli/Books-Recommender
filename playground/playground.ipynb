{
 "cells": [
  {
   "cell_type": "code",
   "execution_count": 1,
   "metadata": {},
   "outputs": [],
   "source": [
    "import feedparser\n",
    "import pandas as pd\n",
    "from bs4 import BeautifulSoup\n",
    "from datetime import datetime\n",
    "\n",
    "def parse_datetime(s):\n",
    "    \"\"\"Parse a datetime string, return None if empty\"\"\"\n",
    "    return datetime.strptime(s, '%a, %d %b %Y %H:%M:%S %z') if s else None\n",
    "\n",
    "def parse_entry(entry):\n",
    "    \"\"\"Parses a single entry from a Goodreads RSS feed into a dictionary.\"\"\"\n",
    "    book_info = {\n",
    "        'Title': entry['title'],\n",
    "        'Author': entry['author_name'],\n",
    "        'Publication Year': entry['book_published'],\n",
    "        'User Rating': entry['user_rating'],\n",
    "        'Average Rating': entry['average_rating'],\n",
    "        'Book ID': entry['book_id'],\n",
    "        'ISBN': entry['isbn'],\n",
    "        'Number of Pages': entry['num_pages'],\n",
    "        'User Status': entry['user_shelves'],\n",
    "        'Book Image URL': entry['book_image_url'],\n",
    "        'Book Description': BeautifulSoup(entry['book_description'], 'html.parser').get_text(),\n",
    "        'Book Large Image URL': entry['book_large_image_url'],\n",
    "        'ID': entry['id'],\n",
    "        'Link': entry['link'],\n",
    "        'Published': parse_datetime(entry['published']),\n",
    "        'User Date Added': parse_datetime(entry['user_date_added']),\n",
    "        'User Date Created': parse_datetime(entry['user_date_created']),\n",
    "        'User Read At': parse_datetime(entry['user_read_at']),\n",
    "        'User Review': '' if pd.isnull(entry['user_review']) else entry['user_review'],\n",
    "        'User Shelves': entry['user_shelves'],\n",
    "    }\n",
    "    return book_info\n",
    "\n",
    "\n",
    "def get_goodreads_books(user_id):\n",
    "    \"\"\"Fetches books from a Goodreads user's RSS feed and returns them as a DataFrame.\"\"\"\n",
    "    url = f\"https://www.goodreads.com/review/list_rss/{user_id}?shelf=%23ALL%23\"\n",
    "    feed = feedparser.parse(url)\n",
    "    books = [parse_entry(entry) for entry in feed.entries]\n",
    "    return pd.DataFrame(books)"
   ]
  },
  {
   "cell_type": "code",
   "execution_count": 2,
   "metadata": {},
   "outputs": [],
   "source": [
    "# soli's goodreads user id\n",
    "df = get_goodreads_books('78274842')\n",
    "df.to_csv('./books/soli.csv', index=False)\n",
    "# load the csv file into pandas \n",
    "books = pd.read_csv('./books/soli.csv')"
   ]
  },
  {
   "cell_type": "code",
   "execution_count": 4,
   "metadata": {},
   "outputs": [],
   "source": []
  },
  {
   "cell_type": "code",
   "execution_count": 5,
   "metadata": {},
   "outputs": [
    {
     "data": {
      "text/plain": [
       "{'Title': 'The Sinner and the Saint: Dostoevsky and the Gentleman Murderer Who Inspired a Masterpiece',\n",
       " 'Author': 'Kevin Birmingham',\n",
       " 'Publication Year': 2021.0,\n",
       " 'User Rating': 0,\n",
       " 'Average Rating': 4.23,\n",
       " 'Book ID': 57066978,\n",
       " 'ISBN': '1594206309',\n",
       " 'Number of Pages': 432,\n",
       " 'User Status': 'currently-reading',\n",
       " 'Book Image URL': 'https://i.gr-assets.com/images/S/compressed.photo.goodreads.com/books/1615880616l/57066978._SY75_.jpg',\n",
       " 'Book Description': \"From the New York Times bestselling author of THE MOST DANGEROUS BOOK, the true story behind the creation of another masterpiece of world literature, Fyodor Dostoevsky's CRIME AND PUNISHMENT. THE SINNER AND THE SAINT is the deeply researched and immersive tale of how Dostoevsky came to write this great murder story--and why it changed the world. As a young man, Dostoevsky was a celebrated writer, but his involvement with the radical politics of his day condemned him to a long Siberian exile. There, he spent years studying the criminals that were his companions. Upon his return to St. Petersburg in the 1860s, he fought his way through gambling addiction, debilitating debt, epilepsy, the deaths of those closest to him, and literary banishment to craft an enduring classic.The germ of CRIME AND PUNISHMENT came from the sensational story of Pierre Francois Lacenaire, a notorious murderer who charmed and outraged Paris in the 1830s. Lacenaire was a glamorous egoist who embodied the instincts that lie beneath nihilism, a western-influenced philosophy inspiring a new generation of Russian revolutionaries. Dostoevsky began creating a Russian incarnation of Lacenaire, a character who could demonstrate the errors of radical politics and ideas. His name would be Raskolnikov.Lacenaire shaped Raskolnikov in profound ways, but the deeper insight, as Birmingham shows, is that Raskolnikov began to merge with Dostoevsky. Dostoevsky was determined to tell a murder story from the murderer's perspective, but his character couldn't be a monster. No. The murderer would be chilling because he wants so desperately to be good.The writing consumed Dostoevsky. As his debts and the predatory terms of his contract caught up with him, he hired a stenographer to dictate the final chapters in time. Anna Grigorievna became Dostoevsky's first reader and chief critic and changed the way he wrote forever. By the time Dostoevsky finished his great novel, he had fallen in love.Dostoevsky's great subject was self-consciousness. CRIME AND PUNISHMENT advanced a revolution in artistic thinking and began the greatest phase of Dostoevsky's career. THE SINNER AND THE SAINT now gives us the thrilling and definitive story of that triumph.\",\n",
       " 'Book Large Image URL': 'https://i.gr-assets.com/images/S/compressed.photo.goodreads.com/books/1615880616l/57066978.jpg',\n",
       " 'ID': 'https://www.goodreads.com/review/show/5920440768?utm_medium=api&utm_source=rss',\n",
       " 'Link': 'https://www.goodreads.com/review/show/5920440768?utm_medium=api&utm_source=rss',\n",
       " 'Published': '2023-10-19 20:58:02-07:00',\n",
       " 'User Date Added': '2023-10-19 20:58:02-07:00',\n",
       " 'User Date Created': '2023-10-19 20:58:01-07:00',\n",
       " 'User Read At': nan,\n",
       " 'User Review': nan,\n",
       " 'User Shelves': 'currently-reading'}"
      ]
     },
     "execution_count": 5,
     "metadata": {},
     "output_type": "execute_result"
    }
   ],
   "source": [
    "books.to_dict('records')[0]"
   ]
  },
  {
   "cell_type": "code",
   "execution_count": null,
   "metadata": {},
   "outputs": [],
   "source": []
  }
 ],
 "metadata": {
  "kernelspec": {
   "display_name": ".venv",
   "language": "python",
   "name": "python3"
  },
  "language_info": {
   "codemirror_mode": {
    "name": "ipython",
    "version": 3
   },
   "file_extension": ".py",
   "mimetype": "text/x-python",
   "name": "python",
   "nbconvert_exporter": "python",
   "pygments_lexer": "ipython3",
   "version": "3.9.6"
  },
  "orig_nbformat": 4
 },
 "nbformat": 4,
 "nbformat_minor": 2
}
