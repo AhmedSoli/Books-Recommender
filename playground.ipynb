{
 "cells": [
  {
   "cell_type": "code",
   "execution_count": 13,
   "metadata": {},
   "outputs": [],
   "source": [
    "import feedparser\n",
    "import pandas as pd\n",
    "from bs4 import BeautifulSoup\n",
    "from datetime import datetime\n",
    "\n",
    "def parse_datetime(s):\n",
    "    \"\"\"Parse a datetime string, return None if empty\"\"\"\n",
    "    return datetime.strptime(s, '%a, %d %b %Y %H:%M:%S %z') if s else None\n",
    "\n",
    "def parse_entry(entry):\n",
    "    \"\"\"Parses a single entry from a Goodreads RSS feed into a dictionary.\"\"\"\n",
    "    book_info = {\n",
    "        'Title': entry['title'],\n",
    "        'Author': entry['author_name'],\n",
    "        'Publication Year': entry['book_published'],\n",
    "        'User Rating': entry['user_rating'],\n",
    "        'Average Rating': entry['average_rating'],\n",
    "        'Book ID': entry['book_id'],\n",
    "        'ISBN': entry['isbn'],\n",
    "        'Number of Pages': entry['num_pages'],\n",
    "        'User Status': entry['user_shelves'],\n",
    "        'Book Image URL': entry['book_image_url'],\n",
    "        'Book Description': BeautifulSoup(entry['book_description'], 'html.parser').get_text(),\n",
    "        'Book Large Image URL': entry['book_large_image_url'],\n",
    "        'ID': entry['id'],\n",
    "        'Link': entry['link'],\n",
    "        'Published': parse_datetime(entry['published']),\n",
    "        'User Date Added': parse_datetime(entry['user_date_added']),\n",
    "        'User Date Created': parse_datetime(entry['user_date_created']),\n",
    "        'User Read At': parse_datetime(entry['user_read_at']),\n",
    "        'User Review': '' if pd.isnull(entry['user_review']) else entry['user_review'],\n",
    "        'User Shelves': entry['user_shelves'],\n",
    "    }\n",
    "    return book_info\n",
    "\n",
    "\n",
    "def get_goodreads_books(user_id):\n",
    "    \"\"\"Fetches books from a Goodreads user's RSS feed and returns them as a DataFrame.\"\"\"\n",
    "    url = f\"https://www.goodreads.com/review/list_rss/{user_id}?shelf=%23ALL%23\"\n",
    "    feed = feedparser.parse(url)\n",
    "    books = [parse_entry(entry) for entry in feed.entries]\n",
    "    return pd.DataFrame(books)"
   ]
  },
  {
   "cell_type": "code",
   "execution_count": 15,
   "metadata": {},
   "outputs": [],
   "source": [
    "# soli's goodreads user id\n",
    "df = get_goodreads_books('78274842')\n",
    "df.to_csv('./books/soli.csv', index=False)"
   ]
  },
  {
   "cell_type": "code",
   "execution_count": 16,
   "metadata": {},
   "outputs": [],
   "source": [
    "import pandas as pd \n",
    "books = pd.read_csv('./books/soli.csv')"
   ]
  },
  {
   "cell_type": "code",
   "execution_count": 17,
   "metadata": {},
   "outputs": [
    {
     "data": {
      "text/plain": [
       "{'Title': 'The Book of Form and Emptiness',\n",
       " 'Author': 'Ruth Ozeki',\n",
       " 'Publication Year': 2021.0,\n",
       " 'User Rating': 0,\n",
       " 'Average Rating': 4.04,\n",
       " 'Book ID': 57004637,\n",
       " 'ISBN': '0399563644',\n",
       " 'Number of Pages': 548.0,\n",
       " 'User Status': 'to-read',\n",
       " 'Book Image URL': 'https://i.gr-assets.com/images/S/compressed.photo.goodreads.com/books/1623850374l/57004637._SY75_.jpg',\n",
       " 'Book Description': '\\nA brilliantly inventive new novel about loss, growing up, and our relationship with things, by the Booker Prize-finalist author of A Tale for the Time Being\\nAfter the tragic death of his beloved musician father, fourteen-year-old Benny Oh begins to hear voices. The voices belong to the things in his house--a sneaker, a broken Christmas ornament, a piece of wilted lettuce. Although Benny doesn\\'t understand what these things are saying, he can sense their emotional tone; some are pleasant, a gentle hum or coo, but others are snide, angry and full of pain. When his mother, Annabelle, develops a hoarding problem, the voices grow more clamorous.At first, Benny tries to ignore them, but soon the voices follow him outside the house, onto the street and at school, driving him at last to seek refuge in the silence of a large public library, where objects are well-behaved and know to speak in whispers. There, Benny discovers a strange new world, where \"things happen.\" He falls in love with a mesmerizing street artist with a smug pet ferret, who uses the library as her performance space. He meets a homeless philosopher-poet, who encourages him to ask important questions and find his own voice amongst the many.And he meets his very own Book--a talking thing--who narrates Benny\\'s life and teaches him to listen to the things that truly matter.With its blend of sympathetic characters, riveting plot, and vibrant engagement with everything from jazz, to climate change, to our attachment to material possessions, The Book of Form and Emptiness is classic Ruth Ozeki--bold, wise, poignant, playful, humane and heartbreaking.',\n",
       " 'Book Large Image URL': 'https://i.gr-assets.com/images/S/compressed.photo.goodreads.com/books/1623850374l/57004637.jpg',\n",
       " 'ID': 'https://www.goodreads.com/review/show/5687605814?utm_medium=api&utm_source=rss',\n",
       " 'Link': 'https://www.goodreads.com/review/show/5687605814?utm_medium=api&utm_source=rss',\n",
       " 'Published': '2023-07-12 11:31:35-07:00',\n",
       " 'User Date Added': '2023-07-12 11:31:35-07:00',\n",
       " 'User Date Created': '2023-07-12 11:31:34-07:00',\n",
       " 'User Read At': nan,\n",
       " 'User Review': nan,\n",
       " 'User Shelves': 'to-read'}"
      ]
     },
     "execution_count": 17,
     "metadata": {},
     "output_type": "execute_result"
    }
   ],
   "source": [
    "books.to_dict('records')[0]"
   ]
  },
  {
   "cell_type": "code",
   "execution_count": null,
   "metadata": {},
   "outputs": [],
   "source": []
  }
 ],
 "metadata": {
  "kernelspec": {
   "display_name": ".venv",
   "language": "python",
   "name": "python3"
  },
  "language_info": {
   "codemirror_mode": {
    "name": "ipython",
    "version": 3
   },
   "file_extension": ".py",
   "mimetype": "text/x-python",
   "name": "python",
   "nbconvert_exporter": "python",
   "pygments_lexer": "ipython3",
   "version": "3.9.6"
  },
  "orig_nbformat": 4
 },
 "nbformat": 4,
 "nbformat_minor": 2
}
