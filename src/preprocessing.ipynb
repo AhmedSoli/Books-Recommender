{
 "cells": [
  {
   "cell_type": "markdown",
   "metadata": {},
   "source": [
    "### Load CSV into pandas Dataframe"
   ]
  },
  {
   "cell_type": "code",
   "execution_count": 34,
   "metadata": {},
   "outputs": [],
   "source": [
    "import pandas as pd\n",
    "\n",
    "books = pd.read_csv('../data/books.csv')\n",
    "books.set_index('book_id',inplace=True)\n",
    "\n",
    "ratings = pd.read_csv('../data/ratings.csv')\n",
    "book_ratings = ratings.join(books,on='book_id')\n",
    "\n",
    "tags = pd.read_csv('../data/tags.csv')\n",
    "tags.set_index('tag_id',inplace=True)\n",
    "\n",
    "book_tags = pd.read_csv('../data/book_tags.csv')\n",
    "book_tags = book_tags.join(tags,on='tag_id')"
   ]
  },
  {
   "cell_type": "markdown",
   "metadata": {},
   "source": [
    "### Serlialize the Dataframe"
   ]
  },
  {
   "cell_type": "code",
   "execution_count": 35,
   "metadata": {},
   "outputs": [],
   "source": [
    "books.to_pickle('../data/books_df.pkl')\n",
    "ratings.to_pickle('../data/ratings_df.pkl')\n",
    "book_ratings.to_pickle('../data/book_ratings_df.pkl')"
   ]
  }
 ],
 "metadata": {
  "kernelspec": {
   "display_name": "Python 3",
   "language": "python",
   "name": "python3"
  },
  "language_info": {
   "codemirror_mode": {
    "name": "ipython",
    "version": 3
   },
   "file_extension": ".py",
   "mimetype": "text/x-python",
   "name": "python",
   "nbconvert_exporter": "python",
   "pygments_lexer": "ipython3",
   "version": "3.7.2"
  }
 },
 "nbformat": 4,
 "nbformat_minor": 2
}
